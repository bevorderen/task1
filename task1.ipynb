{
 "cells": [
  {
   "cell_type": "code",
   "execution_count": 3,
   "metadata": {},
   "outputs": [
    {
     "name": "stdout",
     "output_type": "stream",
     "text": [
      "7\n"
     ]
    }
   ],
   "source": [
    "import numpy as np\n",
    "def fun(n):\n",
    "  a = np.full(n+1, 99999999)\n",
    "  a[1]=0\n",
    "  for i in range(2,n+1):\n",
    "    if(i%2==0):\n",
    "      a[i]=min(a[i],a[i//2]+1)\n",
    "    else:\n",
    "      a[i]=min(a[i-1]+1,a[(i+1)//2]+2)\n",
    "  return a[n]\n",
    "print(fun(31))"
   ]
  }
 ],
 "metadata": {
  "kernelspec": {
   "display_name": "Python 3",
   "language": "python",
   "name": "python3"
  },
  "language_info": {
   "codemirror_mode": {
    "name": "ipython",
    "version": 3
   },
   "file_extension": ".py",
   "mimetype": "text/x-python",
   "name": "python",
   "nbconvert_exporter": "python",
   "pygments_lexer": "ipython3",
   "version": "3.7.3"
  }
 },
 "nbformat": 4,
 "nbformat_minor": 2
}
